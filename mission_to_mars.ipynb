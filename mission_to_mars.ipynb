{
 "cells": [
  {
   "cell_type": "code",
   "execution_count": 1,
   "metadata": {},
   "outputs": [],
   "source": [
    "# import dependencies\n",
    "from bs4 import BeautifulSoup as bs\n",
    "from splinter import Browser\n",
    "from splinter.exceptions import ElementDoesNotExist\n",
    "import time\n",
    "import pandas as pd"
   ]
  },
  {
   "cell_type": "code",
   "execution_count": 2,
   "metadata": {},
   "outputs": [],
   "source": [
    "# connect to chromedriver\n",
    "executable_path = {'executable_path': 'chromedriver.exe'}\n",
    "browser = Browser('chrome', **executable_path, headless=False)"
   ]
  },
  {
   "cell_type": "markdown",
   "metadata": {},
   "source": [
    "### NASA Mars News"
   ]
  },
  {
   "cell_type": "code",
   "execution_count": 3,
   "metadata": {},
   "outputs": [],
   "source": [
    "# navigate to NASA's Mars Exploration Program news site\n",
    "url_news = 'https://mars.nasa.gov/news'\n",
    "browser.visit(url_news)\n",
    "\n",
    "time.sleep(2)"
   ]
  },
  {
   "cell_type": "code",
   "execution_count": 4,
   "metadata": {},
   "outputs": [],
   "source": [
    "# scrape page\n",
    "html_news = browser.html\n",
    "soup_news = bs(html_news, 'html.parser')\n",
    "\n",
    "time.sleep(2)\n",
    "\n",
    "# print(soup_news.prettify())"
   ]
  },
  {
   "cell_type": "code",
   "execution_count": 5,
   "metadata": {},
   "outputs": [
    {
     "data": {
      "text/plain": [
       "\"NASA's Mars 2020 Rover Completes Its First Drive\""
      ]
     },
     "execution_count": 5,
     "metadata": {},
     "output_type": "execute_result"
    }
   ],
   "source": [
    "# find latest news title\n",
    "news_title = soup_news.find_all('div', class_='content_title')[0].text\n",
    "news_title"
   ]
  },
  {
   "cell_type": "code",
   "execution_count": 6,
   "metadata": {},
   "outputs": [
    {
     "data": {
      "text/plain": [
       "'In a 10-plus-hour marathon, the rover steered, turned and drove in 3-foot (1-meter) increments over small ramps.'"
      ]
     },
     "execution_count": 6,
     "metadata": {},
     "output_type": "execute_result"
    }
   ],
   "source": [
    "# find corresponding paragraph text\n",
    "news_p = soup_news.find_all('div', class_='article_teaser_body')[0].text\n",
    "news_p"
   ]
  },
  {
   "cell_type": "markdown",
   "metadata": {},
   "source": [
    "### JPL Mars Space Images - Featured Image"
   ]
  },
  {
   "cell_type": "code",
   "execution_count": 7,
   "metadata": {},
   "outputs": [],
   "source": [
    "# visit JPL Featured Space Image page\n",
    "url_image = 'https://www.jpl.nasa.gov/spaceimages/?search=&category=Mars'\n",
    "browser.visit(url_image)\n",
    "\n",
    "time.sleep(2)"
   ]
  },
  {
   "cell_type": "code",
   "execution_count": 8,
   "metadata": {},
   "outputs": [],
   "source": [
    "# navigate to full image version of featured image\n",
    "browser.click_link_by_id('full_image')\n",
    "\n",
    "time.sleep(3)\n",
    "\n",
    "# browser.click_link_by_partial_href('details')\n",
    "browser.click_link_by_partial_text('more info')\n",
    "\n",
    "time.sleep(2)"
   ]
  },
  {
   "cell_type": "code",
   "execution_count": 9,
   "metadata": {},
   "outputs": [],
   "source": [
    "# scrape page\n",
    "html_image = browser.html\n",
    "soup_image = bs(html_image, 'html.parser')\n",
    "\n",
    "# print(soup_image.prettify())"
   ]
  },
  {
   "cell_type": "code",
   "execution_count": 10,
   "metadata": {},
   "outputs": [
    {
     "data": {
      "text/plain": [
       "'https://photojournal.jpl.nasa.gov/jpeg/PIA17832.jpg'"
      ]
     },
     "execution_count": 10,
     "metadata": {},
     "output_type": "execute_result"
    }
   ],
   "source": [
    "# find featured image source url\n",
    "partial_image_url = soup_image.find_all('div', class_='download_tiff')[1].find('a')['href']\n",
    "\n",
    "featured_image_url = 'https:' + partial_image_url\n",
    "\n",
    "featured_image_url"
   ]
  },
  {
   "cell_type": "markdown",
   "metadata": {},
   "source": [
    "### Mars Weather"
   ]
  },
  {
   "cell_type": "code",
   "execution_count": 11,
   "metadata": {},
   "outputs": [],
   "source": [
    "# visit Mars Weather twitter page\n",
    "url_weather = 'https://twitter.com/marswxreport'\n",
    "browser.visit(url_weather)\n",
    "\n",
    "time.sleep(2)"
   ]
  },
  {
   "cell_type": "code",
   "execution_count": 12,
   "metadata": {},
   "outputs": [],
   "source": [
    "# scrape page\n",
    "html_weather = browser.html\n",
    "soup_weather = bs(html_weather, 'html.parser')\n",
    "\n",
    "# print(soup_weather.prettify())"
   ]
  },
  {
   "cell_type": "code",
   "execution_count": 13,
   "metadata": {},
   "outputs": [
    {
     "data": {
      "text/plain": [
       "'Sol 378 (2019-12-19), low -97.7ºC (-143.8ºF), high -20.0ºC (-3.9ºF), winds from the SSE at 5.7 m/s (12.8 mph) gusting to 23.8 m/s (53.2 mph), pressure at 6.50 hPa'"
      ]
     },
     "execution_count": 13,
     "metadata": {},
     "output_type": "execute_result"
    }
   ],
   "source": [
    "# find latest weather report\n",
    "tweets = soup_weather.find_all('p', class_='tweet-text')\n",
    "\n",
    "tweets_list = []\n",
    "\n",
    "for tweet in tweets:\n",
    "    if tweet.text.split()[0] == 'InSight':\n",
    "        if tweet.find('a'):\n",
    "            pic_url = tweet.find('a').text\n",
    "            full_string = tweet.text\n",
    "            tweet_string = full_string.replace(pic_url, '')\n",
    "            tweets_list.append(tweet_string)\n",
    "        else:\n",
    "            tweets_list.append(tweet.text)\n",
    "\n",
    "try:\n",
    "    mars_weather = tweets_list[0].replace('\\n', ', ')\n",
    "    mars_weather = mars_weather.replace('InSight s', 'S')\n",
    "    mars_weather = mars_weather.replace(') low', '), low')\n",
    "    mars_weather = mars_weather.replace(') high', '), high')\n",
    "except:\n",
    "    pass\n",
    "    \n",
    "mars_weather"
   ]
  },
  {
   "cell_type": "markdown",
   "metadata": {},
   "source": [
    "### Mars Facts"
   ]
  },
  {
   "cell_type": "code",
   "execution_count": 14,
   "metadata": {},
   "outputs": [],
   "source": [
    "# # visit Mars Facts page\n",
    "# url_facts = 'https://space-facts.com/mars/'\n",
    "# browser.visit(url_facts)\n",
    "\n",
    "# time.sleep(2)"
   ]
  },
  {
   "cell_type": "code",
   "execution_count": 15,
   "metadata": {},
   "outputs": [],
   "source": [
    "# # scrape page\n",
    "# html_facts = browser.html\n",
    "# soup_facts = bs(html_facts, 'html.parser')\n",
    "\n",
    "# # print(soup_facts.prettify())"
   ]
  },
  {
   "cell_type": "code",
   "execution_count": 16,
   "metadata": {},
   "outputs": [],
   "source": [
    "# mars_facts_dict = {}\n",
    "\n",
    "# table = soup_facts.find('table', id='tablepress-p-mars-no-2')\n",
    "# entries = table.find_all('tr')\n",
    "\n",
    "# for entry in entries:\n",
    "#     key = entry.find_all('td')[0].text.replace(':','')\n",
    "#     value = entry.find_all('td')[1].text\n",
    "#     mars_facts_dict[key] = value\n",
    "\n",
    "# mars_facts = pd.DataFrame([mars_facts_dict])\n",
    "# mars_facts = mars_facts.transpose()\n",
    "# mars_facts.reset_index(inplace=True)\n",
    "# mars_facts.columns = ['Description','Value']\n",
    "# mars_facts.set_index('Description', inplace=True)\n",
    "# mars_facts"
   ]
  },
  {
   "cell_type": "code",
   "execution_count": 17,
   "metadata": {},
   "outputs": [],
   "source": [
    "# url for Mars Facts page\n",
    "url_facts = 'https://space-facts.com/mars/'"
   ]
  },
  {
   "cell_type": "code",
   "execution_count": 18,
   "metadata": {},
   "outputs": [
    {
     "data": {
      "text/html": [
       "<div>\n",
       "<style scoped>\n",
       "    .dataframe tbody tr th:only-of-type {\n",
       "        vertical-align: middle;\n",
       "    }\n",
       "\n",
       "    .dataframe tbody tr th {\n",
       "        vertical-align: top;\n",
       "    }\n",
       "\n",
       "    .dataframe thead th {\n",
       "        text-align: right;\n",
       "    }\n",
       "</style>\n",
       "<table border=\"1\" class=\"dataframe\">\n",
       "  <thead>\n",
       "    <tr style=\"text-align: right;\">\n",
       "      <th></th>\n",
       "      <th>Value</th>\n",
       "    </tr>\n",
       "    <tr>\n",
       "      <th>Description</th>\n",
       "      <th></th>\n",
       "    </tr>\n",
       "  </thead>\n",
       "  <tbody>\n",
       "    <tr>\n",
       "      <th>Equatorial Diameter:</th>\n",
       "      <td>6,792 km</td>\n",
       "    </tr>\n",
       "    <tr>\n",
       "      <th>Polar Diameter:</th>\n",
       "      <td>6,752 km</td>\n",
       "    </tr>\n",
       "    <tr>\n",
       "      <th>Mass:</th>\n",
       "      <td>6.39 × 10^23 kg (0.11 Earths)</td>\n",
       "    </tr>\n",
       "    <tr>\n",
       "      <th>Moons:</th>\n",
       "      <td>2 (Phobos &amp; Deimos)</td>\n",
       "    </tr>\n",
       "    <tr>\n",
       "      <th>Orbit Distance:</th>\n",
       "      <td>227,943,824 km (1.38 AU)</td>\n",
       "    </tr>\n",
       "    <tr>\n",
       "      <th>Orbit Period:</th>\n",
       "      <td>687 days (1.9 years)</td>\n",
       "    </tr>\n",
       "    <tr>\n",
       "      <th>Surface Temperature:</th>\n",
       "      <td>-87 to -5 °C</td>\n",
       "    </tr>\n",
       "    <tr>\n",
       "      <th>First Record:</th>\n",
       "      <td>2nd millennium BC</td>\n",
       "    </tr>\n",
       "    <tr>\n",
       "      <th>Recorded By:</th>\n",
       "      <td>Egyptian astronomers</td>\n",
       "    </tr>\n",
       "  </tbody>\n",
       "</table>\n",
       "</div>"
      ],
      "text/plain": [
       "                                              Value\n",
       "Description                                        \n",
       "Equatorial Diameter:                       6,792 km\n",
       "Polar Diameter:                            6,752 km\n",
       "Mass:                 6.39 × 10^23 kg (0.11 Earths)\n",
       "Moons:                          2 (Phobos & Deimos)\n",
       "Orbit Distance:            227,943,824 km (1.38 AU)\n",
       "Orbit Period:                  687 days (1.9 years)\n",
       "Surface Temperature:                   -87 to -5 °C\n",
       "First Record:                     2nd millennium BC\n",
       "Recorded By:                   Egyptian astronomers"
      ]
     },
     "execution_count": 18,
     "metadata": {},
     "output_type": "execute_result"
    }
   ],
   "source": [
    "# create dataframe containing facts\n",
    "tables = pd.read_html(url_facts)\n",
    "\n",
    "mars_facts = tables[0]\n",
    "mars_facts.columns = ['Description','Value']\n",
    "mars_facts = mars_facts.set_index('Description')\n",
    "mars_facts"
   ]
  },
  {
   "cell_type": "markdown",
   "metadata": {},
   "source": [
    "### Mars Hemispheres"
   ]
  },
  {
   "cell_type": "code",
   "execution_count": 19,
   "metadata": {},
   "outputs": [],
   "source": [
    "# visit USGS Astrogeology page\n",
    "url_hemisphere = 'https://astrogeology.usgs.gov/search/results?q=hemisphere+enhanced&k1=target&v1=Mars'\n",
    "browser.visit(url_hemisphere)\n",
    "\n",
    "time.sleep(2)"
   ]
  },
  {
   "cell_type": "code",
   "execution_count": 20,
   "metadata": {},
   "outputs": [],
   "source": [
    "# scrape page\n",
    "html_hemisphere = browser.html\n",
    "soup_hemisphere = bs(html_hemisphere, 'html.parser')\n",
    "\n",
    "# print(soup_hemisphere.prettify())"
   ]
  },
  {
   "cell_type": "code",
   "execution_count": 21,
   "metadata": {},
   "outputs": [
    {
     "name": "stdout",
     "output_type": "stream",
     "text": [
      "Cerberus Hemisphere Enhanced\n",
      "https://astrogeology.usgs.gov/cache/images/cfa62af2557222a02478f1fcd781d445_cerberus_enhanced.tif_full.jpg\n",
      "\n",
      "Schiaparelli Hemisphere Enhanced\n",
      "https://astrogeology.usgs.gov/cache/images/3cdd1cbf5e0813bba925c9030d13b62e_schiaparelli_enhanced.tif_full.jpg\n",
      "\n",
      "Syrtis Major Hemisphere Enhanced\n",
      "https://astrogeology.usgs.gov/cache/images/ae209b4e408bb6c3e67b6af38168cf28_syrtis_major_enhanced.tif_full.jpg\n",
      "\n",
      "Valles Marineris Hemisphere Enhanced\n",
      "https://astrogeology.usgs.gov/cache/images/7cf2da4bf549ed01c17f206327be4db7_valles_marineris_enhanced.tif_full.jpg\n",
      "\n"
     ]
    },
    {
     "data": {
      "text/plain": [
       "[{'title': 'Cerberus Hemisphere Enhanced',\n",
       "  'image_url': 'https://astrogeology.usgs.gov/cache/images/cfa62af2557222a02478f1fcd781d445_cerberus_enhanced.tif_full.jpg'},\n",
       " {'title': 'Schiaparelli Hemisphere Enhanced',\n",
       "  'image_url': 'https://astrogeology.usgs.gov/cache/images/3cdd1cbf5e0813bba925c9030d13b62e_schiaparelli_enhanced.tif_full.jpg'},\n",
       " {'title': 'Syrtis Major Hemisphere Enhanced',\n",
       "  'image_url': 'https://astrogeology.usgs.gov/cache/images/ae209b4e408bb6c3e67b6af38168cf28_syrtis_major_enhanced.tif_full.jpg'},\n",
       " {'title': 'Valles Marineris Hemisphere Enhanced',\n",
       "  'image_url': 'https://astrogeology.usgs.gov/cache/images/7cf2da4bf549ed01c17f206327be4db7_valles_marineris_enhanced.tif_full.jpg'}]"
      ]
     },
     "execution_count": 21,
     "metadata": {},
     "output_type": "execute_result"
    }
   ],
   "source": [
    "# find image titles and urls\n",
    "hemispheres = soup_hemisphere.find_all('div', class_='description')\n",
    "\n",
    "hemisphere_image_urls = []\n",
    "\n",
    "hemispheres\n",
    "\n",
    "for hemisphere in hemispheres:\n",
    "    \n",
    "    hemisphere_dict = {}\n",
    "    \n",
    "    title = hemisphere.find('a').text\n",
    "    print(title)\n",
    "    \n",
    "    url = 'https://astrogeology.usgs.gov' + hemisphere.find('a')['href']\n",
    "    browser.visit(url)\n",
    "    time.sleep(2)\n",
    "    \n",
    "    html = browser.html\n",
    "    soup = bs(html, 'html.parser')\n",
    "    full_image = soup.find('img',class_='wide-image')['src']\n",
    "    image_url = 'https://astrogeology.usgs.gov' + full_image\n",
    "    print(f'{image_url}\\n')\n",
    "    \n",
    "    hemisphere_dict['title'] = title\n",
    "    hemisphere_dict['image_url'] = image_url\n",
    "    \n",
    "    hemisphere_image_urls.append(hemisphere_dict)\n",
    "    \n",
    "    browser.back()\n",
    "    time.sleep(2)\n",
    "\n",
    "hemisphere_image_urls"
   ]
  }
 ],
 "metadata": {
  "kernelspec": {
   "display_name": "Python 3",
   "language": "python",
   "name": "python3"
  },
  "language_info": {
   "codemirror_mode": {
    "name": "ipython",
    "version": 3
   },
   "file_extension": ".py",
   "mimetype": "text/x-python",
   "name": "python",
   "nbconvert_exporter": "python",
   "pygments_lexer": "ipython3",
   "version": "3.7.3"
  }
 },
 "nbformat": 4,
 "nbformat_minor": 2
}
